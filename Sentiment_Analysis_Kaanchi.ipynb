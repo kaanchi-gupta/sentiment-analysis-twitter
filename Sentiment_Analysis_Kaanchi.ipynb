{
 "cells": [
  {
   "cell_type": "markdown",
   "id": "636b74c4-fa9e-47b2-ae36-27ae2e7ee620",
   "metadata": {},
   "source": [
    "## Sentiment Analysis Using RoBERTa"
   ]
  },
  {
   "cell_type": "markdown",
   "id": "e5d1d798-2164-4fcd-b92e-2c2dc6c24035",
   "metadata": {},
   "source": [
    "**Why I Shifted From BERT to DistilBERT and Finally RoBERTa**\n",
    " \n",
    " During this sentiment analysis project, I encountered various challenges that led me to switch models:\n",
    "\n",
    "**What is DistilBERT?**\n",
    "- DistilBERT (Developed by Hugging Face) is a lighter and faster version of BERT.\n",
    "- It is trained using knowledge distillation, meaning it retains 97% of BERT’s accuracy while being 60% smaller and twice as fast.\n",
    "- Full BERT was processing too slow for sentiment analysis on the dataset, so I switched to DistilBERT for faster processing.\n",
    "\n",
    "**What is RoBERTa?**\n",
    "- RoBERTa (Robustly Optimized BERT Pretraining Approach) was developed by Facebook AI as an improvement over BERT.\n",
    "- It is trained on much more data than BERT and performs better on text classification tasks.\n",
    "- The Twitter RoBERTa model (cardiffnlp/twitter-roberta-base-sentiment) is specifically fine-tuned for Twitter data, making it ideal for our analysis.\n",
    "- DistilBERT only supported binary sentiment (Positive/Negative), but we needed a model that could detect Neutral sentiment as well. RoBERTa provides  three sentiment classes (Negative, Neutral, Positive), making it the best choice."
   ]
  },
  {
   "cell_type": "markdown",
   "id": "cf2f54bb-4479-4d1c-83fc-440d6b391bdc",
   "metadata": {},
   "source": [
    "## Importing Libraries"
   ]
  },
  {
   "cell_type": "code",
   "execution_count": 2,
   "id": "b4f7fe89-70a6-429e-a546-2e9a6c3477a8",
   "metadata": {},
   "outputs": [
    {
     "name": "stdout",
     "output_type": "stream",
     "text": [
      "Requirement already satisfied: torch in c:\\users\\kaanchi gupta\\anaconda3\\lib\\site-packages (2.6.0)\n",
      "Requirement already satisfied: torchvision in c:\\users\\kaanchi gupta\\anaconda3\\lib\\site-packages (0.21.0)\n",
      "Requirement already satisfied: torchaudio in c:\\users\\kaanchi gupta\\anaconda3\\lib\\site-packages (2.6.0)\n",
      "Requirement already satisfied: transformers in c:\\users\\kaanchi gupta\\anaconda3\\lib\\site-packages (4.48.1)\n",
      "Requirement already satisfied: nltk in c:\\users\\kaanchi gupta\\anaconda3\\lib\\site-packages (3.9.1)\n",
      "Requirement already satisfied: pandas in c:\\users\\kaanchi gupta\\anaconda3\\lib\\site-packages (2.2.2)\n",
      "Requirement already satisfied: filelock in c:\\users\\kaanchi gupta\\anaconda3\\lib\\site-packages (from torch) (3.13.1)\n",
      "Requirement already satisfied: typing-extensions>=4.10.0 in c:\\users\\kaanchi gupta\\anaconda3\\lib\\site-packages (from torch) (4.11.0)\n",
      "Requirement already satisfied: networkx in c:\\users\\kaanchi gupta\\anaconda3\\lib\\site-packages (from torch) (3.3)\n",
      "Requirement already satisfied: jinja2 in c:\\users\\kaanchi gupta\\anaconda3\\lib\\site-packages (from torch) (3.1.4)\n",
      "Requirement already satisfied: fsspec in c:\\users\\kaanchi gupta\\anaconda3\\lib\\site-packages (from torch) (2024.6.1)\n",
      "Requirement already satisfied: setuptools in c:\\users\\kaanchi gupta\\anaconda3\\lib\\site-packages (from torch) (75.1.0)\n",
      "Requirement already satisfied: sympy==1.13.1 in c:\\users\\kaanchi gupta\\anaconda3\\lib\\site-packages (from torch) (1.13.1)\n",
      "Requirement already satisfied: mpmath<1.4,>=1.1.0 in c:\\users\\kaanchi gupta\\anaconda3\\lib\\site-packages (from sympy==1.13.1->torch) (1.3.0)\n",
      "Requirement already satisfied: numpy in c:\\users\\kaanchi gupta\\anaconda3\\lib\\site-packages (from torchvision) (1.26.4)\n",
      "Requirement already satisfied: pillow!=8.3.*,>=5.3.0 in c:\\users\\kaanchi gupta\\anaconda3\\lib\\site-packages (from torchvision) (10.4.0)\n",
      "Requirement already satisfied: huggingface-hub<1.0,>=0.24.0 in c:\\users\\kaanchi gupta\\anaconda3\\lib\\site-packages (from transformers) (0.28.1)\n",
      "Requirement already satisfied: packaging>=20.0 in c:\\users\\kaanchi gupta\\anaconda3\\lib\\site-packages (from transformers) (24.1)\n",
      "Requirement already satisfied: pyyaml>=5.1 in c:\\users\\kaanchi gupta\\anaconda3\\lib\\site-packages (from transformers) (6.0.1)\n",
      "Requirement already satisfied: regex!=2019.12.17 in c:\\users\\kaanchi gupta\\anaconda3\\lib\\site-packages (from transformers) (2024.9.11)\n",
      "Requirement already satisfied: requests in c:\\users\\kaanchi gupta\\anaconda3\\lib\\site-packages (from transformers) (2.32.3)\n",
      "Requirement already satisfied: tokenizers<0.22,>=0.21 in c:\\users\\kaanchi gupta\\anaconda3\\lib\\site-packages (from transformers) (0.21.0)\n",
      "Requirement already satisfied: safetensors>=0.4.1 in c:\\users\\kaanchi gupta\\anaconda3\\lib\\site-packages (from transformers) (0.5.2)\n",
      "Requirement already satisfied: tqdm>=4.27 in c:\\users\\kaanchi gupta\\anaconda3\\lib\\site-packages (from transformers) (4.66.5)\n",
      "Requirement already satisfied: click in c:\\users\\kaanchi gupta\\anaconda3\\lib\\site-packages (from nltk) (8.1.7)\n",
      "Requirement already satisfied: joblib in c:\\users\\kaanchi gupta\\anaconda3\\lib\\site-packages (from nltk) (1.4.2)\n",
      "Requirement already satisfied: python-dateutil>=2.8.2 in c:\\users\\kaanchi gupta\\anaconda3\\lib\\site-packages (from pandas) (2.9.0.post0)\n",
      "Requirement already satisfied: pytz>=2020.1 in c:\\users\\kaanchi gupta\\anaconda3\\lib\\site-packages (from pandas) (2024.1)\n",
      "Requirement already satisfied: tzdata>=2022.7 in c:\\users\\kaanchi gupta\\anaconda3\\lib\\site-packages (from pandas) (2023.3)\n",
      "Requirement already satisfied: six>=1.5 in c:\\users\\kaanchi gupta\\anaconda3\\lib\\site-packages (from python-dateutil>=2.8.2->pandas) (1.16.0)\n",
      "Requirement already satisfied: colorama in c:\\users\\kaanchi gupta\\anaconda3\\lib\\site-packages (from tqdm>=4.27->transformers) (0.4.6)\n",
      "Requirement already satisfied: MarkupSafe>=2.0 in c:\\users\\kaanchi gupta\\anaconda3\\lib\\site-packages (from jinja2->torch) (2.1.3)\n",
      "Requirement already satisfied: charset-normalizer<4,>=2 in c:\\users\\kaanchi gupta\\anaconda3\\lib\\site-packages (from requests->transformers) (3.3.2)\n",
      "Requirement already satisfied: idna<4,>=2.5 in c:\\users\\kaanchi gupta\\anaconda3\\lib\\site-packages (from requests->transformers) (2.10)\n",
      "Requirement already satisfied: urllib3<3,>=1.21.1 in c:\\users\\kaanchi gupta\\anaconda3\\lib\\site-packages (from requests->transformers) (2.2.3)\n",
      "Requirement already satisfied: certifi>=2017.4.17 in c:\\users\\kaanchi gupta\\anaconda3\\lib\\site-packages (from requests->transformers) (2024.8.30)\n",
      "Using device: cpu\n"
     ]
    },
    {
     "name": "stderr",
     "output_type": "stream",
     "text": [
      "[nltk_data] Downloading package stopwords to C:\\Users\\Kaanchi\n",
      "[nltk_data]     Gupta\\AppData\\Roaming\\nltk_data...\n",
      "[nltk_data]   Package stopwords is already up-to-date!\n",
      "[nltk_data] Downloading package punkt to C:\\Users\\Kaanchi\n",
      "[nltk_data]     Gupta\\AppData\\Roaming\\nltk_data...\n",
      "[nltk_data]   Package punkt is already up-to-date!\n"
     ]
    }
   ],
   "source": [
    "!pip install torch torchvision torchaudio transformers nltk pandas\n",
    "\n",
    "import pandas as pd  # Handling datasets\n",
    "import torch  # PyTorch for deep learning computations\n",
    "from transformers import BertTokenizer, BertForSequenceClassification  # BERT model & tokenizer\n",
    "import nltk  # Natural Language Toolkit for text preprocessing\n",
    "import re  # Regular expressions for text cleaning\n",
    "from torch.utils.data import DataLoader, Dataset\n",
    "import numpy as np  # Numerical operations\n",
    "\n",
    "# Download necessary NLTK resources for text preprocessing\n",
    "nltk.download('stopwords')\n",
    "nltk.download('punkt')\n",
    "\n",
    "# Check if CUDA (GPU) is available for faster processing\n",
    "device = torch.device(\"cuda\" if torch.cuda.is_available() else \"cpu\")\n",
    "print(f\"Using device: {device}\")\n"
   ]
  },
  {
   "cell_type": "markdown",
   "id": "32113f88-1fbd-401d-a7b3-3a3d30eb499e",
   "metadata": {},
   "source": [
    "## Importing Data and Viewing the Data"
   ]
  },
  {
   "cell_type": "code",
   "execution_count": 4,
   "id": "e705bed8-9b07-4db1-8c16-bb32c276f2e6",
   "metadata": {},
   "outputs": [
    {
     "name": "stdout",
     "output_type": "stream",
     "text": [
      "Trump Dataset Sample:\n"
     ]
    },
    {
     "data": {
      "text/html": [
       "<div>\n",
       "<style scoped>\n",
       "    .dataframe tbody tr th:only-of-type {\n",
       "        vertical-align: middle;\n",
       "    }\n",
       "\n",
       "    .dataframe tbody tr th {\n",
       "        vertical-align: top;\n",
       "    }\n",
       "\n",
       "    .dataframe thead th {\n",
       "        text-align: right;\n",
       "    }\n",
       "</style>\n",
       "<table border=\"1\" class=\"dataframe\">\n",
       "  <thead>\n",
       "    <tr style=\"text-align: right;\">\n",
       "      <th></th>\n",
       "      <th>User ID</th>\n",
       "      <th>Tweet ID</th>\n",
       "      <th>Tweet</th>\n",
       "      <th>Created at</th>\n",
       "      <th>Retweets</th>\n",
       "      <th>Replies</th>\n",
       "      <th>Likes</th>\n",
       "      <th>Quotes</th>\n",
       "      <th>Source</th>\n",
       "    </tr>\n",
       "  </thead>\n",
       "  <tbody>\n",
       "    <tr>\n",
       "      <th>0</th>\n",
       "      <td>831683895234007040</td>\n",
       "      <td>1833354711484739688</td>\n",
       "      <td>RT @KamalaHQ: Trump is going to lie at the deb...</td>\n",
       "      <td>2024-09-10 03:59:59+00:00</td>\n",
       "      <td>14181</td>\n",
       "      <td>0</td>\n",
       "      <td>0</td>\n",
       "      <td>0</td>\n",
       "      <td>NaN</td>\n",
       "    </tr>\n",
       "    <tr>\n",
       "      <th>1</th>\n",
       "      <td>899321381258539009</td>\n",
       "      <td>1833354711446999516</td>\n",
       "      <td>RT @szaevermore: for taylor swift, talking abo...</td>\n",
       "      <td>2024-09-10 03:59:59+00:00</td>\n",
       "      <td>17431</td>\n",
       "      <td>0</td>\n",
       "      <td>0</td>\n",
       "      <td>0</td>\n",
       "      <td>NaN</td>\n",
       "    </tr>\n",
       "    <tr>\n",
       "      <th>2</th>\n",
       "      <td>720857191</td>\n",
       "      <td>1833354711438618816</td>\n",
       "      <td>RT @kylegriffin1: Breaking: Trump bragged to B...</td>\n",
       "      <td>2024-09-10 03:59:59+00:00</td>\n",
       "      <td>23285</td>\n",
       "      <td>0</td>\n",
       "      <td>0</td>\n",
       "      <td>0</td>\n",
       "      <td>NaN</td>\n",
       "    </tr>\n",
       "    <tr>\n",
       "      <th>3</th>\n",
       "      <td>1319754515524931584</td>\n",
       "      <td>1833354711426302274</td>\n",
       "      <td>RT @BoLoudon: WOW! If you love animals like I ...</td>\n",
       "      <td>2024-09-10 03:59:59+00:00</td>\n",
       "      <td>363</td>\n",
       "      <td>0</td>\n",
       "      <td>0</td>\n",
       "      <td>0</td>\n",
       "      <td>NaN</td>\n",
       "    </tr>\n",
       "    <tr>\n",
       "      <th>4</th>\n",
       "      <td>1248617214468476928</td>\n",
       "      <td>1833354711346323915</td>\n",
       "      <td>RT @isthisnour: the fact that she’s made a who...</td>\n",
       "      <td>2024-09-10 03:59:59+00:00</td>\n",
       "      <td>9369</td>\n",
       "      <td>0</td>\n",
       "      <td>0</td>\n",
       "      <td>0</td>\n",
       "      <td>NaN</td>\n",
       "    </tr>\n",
       "  </tbody>\n",
       "</table>\n",
       "</div>"
      ],
      "text/plain": [
       "               User ID             Tweet ID  \\\n",
       "0   831683895234007040  1833354711484739688   \n",
       "1   899321381258539009  1833354711446999516   \n",
       "2            720857191  1833354711438618816   \n",
       "3  1319754515524931584  1833354711426302274   \n",
       "4  1248617214468476928  1833354711346323915   \n",
       "\n",
       "                                               Tweet  \\\n",
       "0  RT @KamalaHQ: Trump is going to lie at the deb...   \n",
       "1  RT @szaevermore: for taylor swift, talking abo...   \n",
       "2  RT @kylegriffin1: Breaking: Trump bragged to B...   \n",
       "3  RT @BoLoudon: WOW! If you love animals like I ...   \n",
       "4  RT @isthisnour: the fact that she’s made a who...   \n",
       "\n",
       "                  Created at  Retweets  Replies  Likes  Quotes  Source  \n",
       "0  2024-09-10 03:59:59+00:00     14181        0      0       0     NaN  \n",
       "1  2024-09-10 03:59:59+00:00     17431        0      0       0     NaN  \n",
       "2  2024-09-10 03:59:59+00:00     23285        0      0       0     NaN  \n",
       "3  2024-09-10 03:59:59+00:00       363        0      0       0     NaN  \n",
       "4  2024-09-10 03:59:59+00:00      9369        0      0       0     NaN  "
      ]
     },
     "metadata": {},
     "output_type": "display_data"
    },
    {
     "name": "stdout",
     "output_type": "stream",
     "text": [
      "Harris Dataset Sample:\n"
     ]
    },
    {
     "data": {
      "text/html": [
       "<div>\n",
       "<style scoped>\n",
       "    .dataframe tbody tr th:only-of-type {\n",
       "        vertical-align: middle;\n",
       "    }\n",
       "\n",
       "    .dataframe tbody tr th {\n",
       "        vertical-align: top;\n",
       "    }\n",
       "\n",
       "    .dataframe thead th {\n",
       "        text-align: right;\n",
       "    }\n",
       "</style>\n",
       "<table border=\"1\" class=\"dataframe\">\n",
       "  <thead>\n",
       "    <tr style=\"text-align: right;\">\n",
       "      <th></th>\n",
       "      <th>User ID</th>\n",
       "      <th>Tweet ID</th>\n",
       "      <th>Tweet</th>\n",
       "      <th>Created at</th>\n",
       "      <th>Retweets</th>\n",
       "      <th>Replies</th>\n",
       "      <th>Likes</th>\n",
       "      <th>Quotes</th>\n",
       "      <th>Source</th>\n",
       "    </tr>\n",
       "  </thead>\n",
       "  <tbody>\n",
       "    <tr>\n",
       "      <th>0</th>\n",
       "      <td>1673887475880845314</td>\n",
       "      <td>1833354711572856932</td>\n",
       "      <td>RT @bennyjohnson: Kamala openly brags about du...</td>\n",
       "      <td>2024-09-10 03:59:59+00:00</td>\n",
       "      <td>18287</td>\n",
       "      <td>0</td>\n",
       "      <td>0</td>\n",
       "      <td>0</td>\n",
       "      <td>NaN</td>\n",
       "    </tr>\n",
       "    <tr>\n",
       "      <th>1</th>\n",
       "      <td>23897765</td>\n",
       "      <td>1833354711560339900</td>\n",
       "      <td>RT @KnowaWasTaken: WBNA Super-Star Brittney Gr...</td>\n",
       "      <td>2024-09-10 03:59:59+00:00</td>\n",
       "      <td>1980</td>\n",
       "      <td>0</td>\n",
       "      <td>0</td>\n",
       "      <td>0</td>\n",
       "      <td>NaN</td>\n",
       "    </tr>\n",
       "    <tr>\n",
       "      <th>2</th>\n",
       "      <td>1055753008129196033</td>\n",
       "      <td>1833354711489032339</td>\n",
       "      <td>RT @JamesOKeefeIII: BREAKING: Google Growth St...</td>\n",
       "      <td>2024-09-10 03:59:59+00:00</td>\n",
       "      <td>22300</td>\n",
       "      <td>0</td>\n",
       "      <td>0</td>\n",
       "      <td>0</td>\n",
       "      <td>NaN</td>\n",
       "    </tr>\n",
       "    <tr>\n",
       "      <th>3</th>\n",
       "      <td>1319754515524931584</td>\n",
       "      <td>1833354711426302274</td>\n",
       "      <td>RT @BoLoudon: WOW! If you love animals like I ...</td>\n",
       "      <td>2024-09-10 03:59:59+00:00</td>\n",
       "      <td>363</td>\n",
       "      <td>0</td>\n",
       "      <td>0</td>\n",
       "      <td>0</td>\n",
       "      <td>NaN</td>\n",
       "    </tr>\n",
       "    <tr>\n",
       "      <th>4</th>\n",
       "      <td>1183192509578502144</td>\n",
       "      <td>1833354711262470326</td>\n",
       "      <td>RT @EricLDaugh: 🚨 PREDICTIT HAS FLIPPED FOR TR...</td>\n",
       "      <td>2024-09-10 03:59:59+00:00</td>\n",
       "      <td>219</td>\n",
       "      <td>0</td>\n",
       "      <td>0</td>\n",
       "      <td>0</td>\n",
       "      <td>NaN</td>\n",
       "    </tr>\n",
       "  </tbody>\n",
       "</table>\n",
       "</div>"
      ],
      "text/plain": [
       "               User ID             Tweet ID  \\\n",
       "0  1673887475880845314  1833354711572856932   \n",
       "1             23897765  1833354711560339900   \n",
       "2  1055753008129196033  1833354711489032339   \n",
       "3  1319754515524931584  1833354711426302274   \n",
       "4  1183192509578502144  1833354711262470326   \n",
       "\n",
       "                                               Tweet  \\\n",
       "0  RT @bennyjohnson: Kamala openly brags about du...   \n",
       "1  RT @KnowaWasTaken: WBNA Super-Star Brittney Gr...   \n",
       "2  RT @JamesOKeefeIII: BREAKING: Google Growth St...   \n",
       "3  RT @BoLoudon: WOW! If you love animals like I ...   \n",
       "4  RT @EricLDaugh: 🚨 PREDICTIT HAS FLIPPED FOR TR...   \n",
       "\n",
       "                  Created at  Retweets  Replies  Likes  Quotes  Source  \n",
       "0  2024-09-10 03:59:59+00:00     18287        0      0       0     NaN  \n",
       "1  2024-09-10 03:59:59+00:00      1980        0      0       0     NaN  \n",
       "2  2024-09-10 03:59:59+00:00     22300        0      0       0     NaN  \n",
       "3  2024-09-10 03:59:59+00:00       363        0      0       0     NaN  \n",
       "4  2024-09-10 03:59:59+00:00       219        0      0       0     NaN  "
      ]
     },
     "metadata": {},
     "output_type": "display_data"
    }
   ],
   "source": [
    "# Load the datasets\n",
    "trump_df = pd.read_csv(r\"C:\\Users\\Kaanchi Gupta\\Downloads\\trump.csv\")\n",
    "harris_df = pd.read_csv(r\"C:\\Users\\Kaanchi Gupta\\Downloads\\harris.csv\")\n",
    "\n",
    "# Preview the first few rows\n",
    "print(\"Trump Dataset Sample:\")\n",
    "display(trump_df.head())\n",
    "\n",
    "\n",
    "print(\"Harris Dataset Sample:\")\n",
    "display(harris_df.head())\n"
   ]
  },
  {
   "cell_type": "markdown",
   "id": "3923b514-07e7-4f5c-88d9-e694b75d9e1f",
   "metadata": {},
   "source": [
    "## Data Cleaning and Processing"
   ]
  },
  {
   "cell_type": "markdown",
   "id": "de16d699-3561-49a5-a326-a4d64abb1c8a",
   "metadata": {
    "scrolled": true
   },
   "source": [
    "**Emoji to Text** BERT does not understand emojis directly, so we convert them to text descriptions."
   ]
  },
  {
   "cell_type": "code",
   "execution_count": 7,
   "id": "a79b560d-3e40-4991-94b9-c0512464b82a",
   "metadata": {},
   "outputs": [],
   "source": [
    "import emoji\n",
    "\n",
    "def convert_emojis_to_text(text):\n",
    "    \"\"\"Replaces emojis with text descriptions.\"\"\"\n",
    "    return emoji.demojize(text, delimiters=(\" \", \" \"))  # Converts 😂 → \":face_with_tears_of_joy:\"\n",
    "\n",
    "# Apply to Trump & Harris tweets\n",
    "trump_df[\"Tweet\"] = trump_df[\"Tweet\"].apply(convert_emojis_to_text)\n",
    "harris_df[\"Tweet\"] = harris_df[\"Tweet\"].apply(convert_emojis_to_text)"
   ]
  },
  {
   "cell_type": "markdown",
   "id": "1494e9ef-ea58-4262-b996-69c6a27dce4b",
   "metadata": {},
   "source": [
    "**Remove Hashtag-Only Tweets** Tweets containing only hashtags (e.g., #Trump #MAGA #2024) do not provide sentiment."
   ]
  },
  {
   "cell_type": "code",
   "execution_count": 9,
   "id": "dc109e52-fdf0-49b4-a933-79e24c7c59e8",
   "metadata": {},
   "outputs": [],
   "source": [
    "import re\n",
    "\n",
    "def is_hashtag_only(text):\n",
    "    \"\"\"Returns True if a tweet contains only hashtags.\"\"\"\n",
    "    words = text.split()\n",
    "    return all(word.startswith(\"#\") for word in words)\n",
    "\n",
    "# Apply function to remove hashtag-only tweets\n",
    "trump_df = trump_df[~trump_df[\"Tweet\"].apply(is_hashtag_only)]\n",
    "harris_df = harris_df[~harris_df[\"Tweet\"].apply(is_hashtag_only)]\n"
   ]
  },
  {
   "cell_type": "markdown",
   "id": "044008dc-2a3d-46c8-938d-a175d7e02c97",
   "metadata": {},
   "source": [
    "**Remove or Modify Retweets** \n",
    "- Remove RT @username:\" but keep the original tweet. \n",
    "- Remove duplicate retweets (if the same tweet appears multiple times)"
   ]
  },
  {
   "cell_type": "code",
   "execution_count": 11,
   "id": "d9cbb9ba-2505-4919-afbd-855faac2f65b",
   "metadata": {},
   "outputs": [],
   "source": [
    "import re\n",
    "\n",
    "def remove_retweet_prefix(text):\n",
    "    \"\"\"Removes 'RT @username' from tweets while keeping original content.\"\"\"\n",
    "    return re.sub(r\"RT @\\w+: \", \"\", text)  # Removes the retweet header but keeps the tweet text\n",
    "\n",
    "# Apply function\n",
    "trump_df[\"Tweet\"] = trump_df[\"Tweet\"].apply(remove_retweet_prefix)\n",
    "harris_df[\"Tweet\"] = harris_df[\"Tweet\"].apply(remove_retweet_prefix)\n",
    "\n",
    "# Remove duplicate tweets (full duplicate content)\n",
    "trump_df = trump_df.drop_duplicates(subset=[\"Tweet\"])\n",
    "harris_df = harris_df.drop_duplicates(subset=[\"Tweet\"])\n"
   ]
  },
  {
   "cell_type": "markdown",
   "id": "593189e5-0f0f-40b9-9dc1-9d7402a21537",
   "metadata": {},
   "source": [
    "**Remove or Modify Tweet Replies** \n",
    "- Some replies only mention other users without adding new sentiment (e.g., @user Yes! 😂🔥).\n",
    "- However, if the reply contains an opinion, we should keep it.\n",
    "- The goal is to remove tweets that are just mentions and keep meaningful replies."
   ]
  },
  {
   "cell_type": "code",
   "execution_count": 13,
   "id": "bde771f1-0270-4078-b4aa-3e6ae2eb65b1",
   "metadata": {},
   "outputs": [],
   "source": [
    "import re\n",
    "\n",
    "def is_reply_only(text):\n",
    "    \"\"\"Detects if a tweet is just a reply (only mentions someone).\"\"\"\n",
    "    return bool(re.fullmatch(r\"@\\w+\", text))  # If tweet is only \"@username\", remove it\n",
    "\n",
    "# Remove reply-only tweets\n",
    "trump_df = trump_df[~trump_df[\"Tweet\"].apply(is_reply_only)]\n",
    "harris_df = harris_df[~harris_df[\"Tweet\"].apply(is_reply_only)]\n"
   ]
  },
  {
   "cell_type": "markdown",
   "id": "f35ca508-0f47-4c57-92c8-d544ce0ee6ee",
   "metadata": {},
   "source": [
    "**Removing Stopwords**\n",
    "- Stopwords are common words (e.g., \"the\", \"is\", \"and\", \"of\") that do not add sentiment but take up space.\n",
    "- Use NLTK’s stopword list to filter out common words.\n",
    "- Tokenize each tweet, remove stopwords, and reconstruct the cleaned text."
   ]
  },
  {
   "cell_type": "code",
   "execution_count": 15,
   "id": "dfc8f3f7-1d46-435a-8f55-8ab86135cb1f",
   "metadata": {},
   "outputs": [
    {
     "name": "stderr",
     "output_type": "stream",
     "text": [
      "[nltk_data] Downloading package stopwords to C:\\Users\\Kaanchi\n",
      "[nltk_data]     Gupta\\AppData\\Roaming\\nltk_data...\n",
      "[nltk_data]   Package stopwords is already up-to-date!\n",
      "[nltk_data] Downloading package punkt to C:\\Users\\Kaanchi\n",
      "[nltk_data]     Gupta\\AppData\\Roaming\\nltk_data...\n",
      "[nltk_data]   Package punkt is already up-to-date!\n"
     ]
    }
   ],
   "source": [
    "import nltk\n",
    "\n",
    "# Download stopwords \n",
    "nltk.download('stopwords')\n",
    "nltk.download('punkt')\n",
    "\n",
    "from nltk.corpus import stopwords\n",
    "\n",
    "stop_words = set(stopwords.words('english'))\n",
    "\n",
    "def remove_stopwords(text):\n",
    "    \"\"\"Removes common English stopwords using simple split() instead of word_tokenize().\"\"\"\n",
    "    words = text.split()  # Splits by spaces instead of tokenizing\n",
    "    return \" \".join([word for word in words if word.lower() not in stop_words])\n",
    "\n",
    "# Apply function to both datasets\n",
    "trump_df[\"Tweet\"] = trump_df[\"Tweet\"].apply(remove_stopwords)\n",
    "harris_df[\"Tweet\"] = harris_df[\"Tweet\"].apply(remove_stopwords)\n"
   ]
  },
  {
   "cell_type": "markdown",
   "id": "8916ea99-0825-4d64-ba36-d09cbfc5c870",
   "metadata": {},
   "source": [
    "**Expanding Contractions (e.g., \"can't\" → \"cannot\")** BERT and NLP models understand full words better than contractions."
   ]
  },
  {
   "cell_type": "code",
   "execution_count": 17,
   "id": "1996ff6c-d657-4185-9123-fa2d3bc1dd07",
   "metadata": {},
   "outputs": [
    {
     "name": "stdout",
     "output_type": "stream",
     "text": [
      "Requirement already satisfied: contractions in c:\\users\\kaanchi gupta\\anaconda3\\lib\\site-packages (0.1.73)\n",
      "Requirement already satisfied: textsearch>=0.0.21 in c:\\users\\kaanchi gupta\\anaconda3\\lib\\site-packages (from contractions) (0.0.24)\n",
      "Requirement already satisfied: anyascii in c:\\users\\kaanchi gupta\\anaconda3\\lib\\site-packages (from textsearch>=0.0.21->contractions) (0.3.2)\n",
      "Requirement already satisfied: pyahocorasick in c:\\users\\kaanchi gupta\\anaconda3\\lib\\site-packages (from textsearch>=0.0.21->contractions) (2.1.0)\n"
     ]
    }
   ],
   "source": [
    "!pip install contractions\n",
    "\n",
    "import contractions\n",
    "\n",
    "def expand_contractions(text):\n",
    "    \"\"\"Expands contractions like 'can't' → 'cannot'.\"\"\"\n",
    "    return contractions.fix(text)\n",
    "\n",
    "# Apply function to both datasets\n",
    "trump_df[\"Tweet\"] = trump_df[\"Tweet\"].apply(expand_contractions)\n",
    "harris_df[\"Tweet\"] = harris_df[\"Tweet\"].apply(expand_contractions)\n"
   ]
  },
  {
   "cell_type": "markdown",
   "id": "08e2ff46-f50b-48f1-bfa1-da060ec60bb0",
   "metadata": {},
   "source": [
    "**Removing Clickbait Words (e.g., \"BREAKING\", \"SHOCKING\")**\n",
    "- Clickbait words like \"BREAKING\", \"SHOCKING\", \"MUST WATCH\" introduce bias and exaggeration.\n",
    "- These phrases do not contribute to genuine sentiment but instead sensationalize content.\n",
    "- Create a list of common clickbait phrases.\n",
    "- Remove these words from tweets to reduce bias."
   ]
  },
  {
   "cell_type": "code",
   "execution_count": 19,
   "id": "23a5573b-13ac-4187-b2ac-7b8f98e60c11",
   "metadata": {},
   "outputs": [],
   "source": [
    "import re\n",
    "\n",
    "clickbait_words = [\n",
    "    \"breaking\", \"shocking\", \"must read\", \"watch this\", \"click here\",\n",
    "    \"this will surprise you\", \"you won’t believe\", \"viral\", \"shocking truth\",\n",
    "    \"exclusive\", \"just in\", \"alert\", \"must watch\", \"you need to see this\"\n",
    "]\n",
    "\n",
    "def remove_clickbait(text):\n",
    "    \"\"\"Removes common clickbait words from tweets, case insensitive.\"\"\"\n",
    "    words = text.split()  # Split text into words\n",
    "    filtered_words = [word for word in words if word.lower().strip(\".,:!?'\\\"\") not in clickbait_words]  # Remove case variations & punctuation\n",
    "    return \" \".join(filtered_words)  # Join words back into a sentence\n",
    "\n",
    "# Apply function to both datasets\n",
    "trump_df[\"Tweet\"] = trump_df[\"Tweet\"].apply(remove_clickbait)\n",
    "harris_df[\"Tweet\"] = harris_df[\"Tweet\"].apply(remove_clickbait)"
   ]
  },
  {
   "cell_type": "markdown",
   "id": "13038727-ec54-427a-8921-5cc45331b4e0",
   "metadata": {},
   "source": [
    "**Language Translation using Google Translate API**\n",
    "- We use the googletrans library to automatically translate non-English tweets into English.\n",
    "- If a tweet is already in English, it remains unchanged."
   ]
  },
  {
   "cell_type": "code",
   "execution_count": 21,
   "id": "216e7bc9-93ba-4c2c-9d8d-a7bfe03823a2",
   "metadata": {},
   "outputs": [
    {
     "name": "stdout",
     "output_type": "stream",
     "text": [
      "Requirement already satisfied: googletrans==4.0.0-rc1 in c:\\users\\kaanchi gupta\\anaconda3\\lib\\site-packages (4.0.0rc1)\n",
      "Requirement already satisfied: httpx==0.13.3 in c:\\users\\kaanchi gupta\\anaconda3\\lib\\site-packages (from googletrans==4.0.0-rc1) (0.13.3)\n",
      "Requirement already satisfied: certifi in c:\\users\\kaanchi gupta\\anaconda3\\lib\\site-packages (from httpx==0.13.3->googletrans==4.0.0-rc1) (2024.8.30)\n",
      "Requirement already satisfied: hstspreload in c:\\users\\kaanchi gupta\\anaconda3\\lib\\site-packages (from httpx==0.13.3->googletrans==4.0.0-rc1) (2025.1.1)\n",
      "Requirement already satisfied: sniffio in c:\\users\\kaanchi gupta\\anaconda3\\lib\\site-packages (from httpx==0.13.3->googletrans==4.0.0-rc1) (1.3.0)\n",
      "Requirement already satisfied: chardet==3.* in c:\\users\\kaanchi gupta\\anaconda3\\lib\\site-packages (from httpx==0.13.3->googletrans==4.0.0-rc1) (3.0.4)\n",
      "Requirement already satisfied: idna==2.* in c:\\users\\kaanchi gupta\\anaconda3\\lib\\site-packages (from httpx==0.13.3->googletrans==4.0.0-rc1) (2.10)\n",
      "Requirement already satisfied: rfc3986<2,>=1.3 in c:\\users\\kaanchi gupta\\anaconda3\\lib\\site-packages (from httpx==0.13.3->googletrans==4.0.0-rc1) (1.5.0)\n",
      "Requirement already satisfied: httpcore==0.9.* in c:\\users\\kaanchi gupta\\anaconda3\\lib\\site-packages (from httpx==0.13.3->googletrans==4.0.0-rc1) (0.9.1)\n",
      "Requirement already satisfied: h11<0.10,>=0.8 in c:\\users\\kaanchi gupta\\anaconda3\\lib\\site-packages (from httpcore==0.9.*->httpx==0.13.3->googletrans==4.0.0-rc1) (0.9.0)\n",
      "Requirement already satisfied: h2==3.* in c:\\users\\kaanchi gupta\\anaconda3\\lib\\site-packages (from httpcore==0.9.*->httpx==0.13.3->googletrans==4.0.0-rc1) (3.2.0)\n",
      "Requirement already satisfied: hyperframe<6,>=5.2.0 in c:\\users\\kaanchi gupta\\anaconda3\\lib\\site-packages (from h2==3.*->httpcore==0.9.*->httpx==0.13.3->googletrans==4.0.0-rc1) (5.2.0)\n",
      "Requirement already satisfied: hpack<4,>=3.0 in c:\\users\\kaanchi gupta\\anaconda3\\lib\\site-packages (from h2==3.*->httpcore==0.9.*->httpx==0.13.3->googletrans==4.0.0-rc1) (3.0.0)\n"
     ]
    }
   ],
   "source": [
    "!pip install googletrans==4.0.0-rc1\n",
    "\n",
    "from googletrans import Translator\n",
    "from langdetect import detect, DetectorFactory\n",
    "import langdetect\n",
    "\n",
    "# Ensure consistent language detection\n",
    "DetectorFactory.seed = 0  \n",
    "translator = Translator()\n",
    "\n",
    "def translate_to_english(text):\n",
    "    \"\"\"Detects language and translates non-English tweets to English.\"\"\"\n",
    "    try:\n",
    "        lang = detect(text)  # Detect language\n",
    "        if lang != \"en\":  # If not English, translate it\n",
    "            translated = translator.translate(text, src=lang, dest=\"en\")\n",
    "            return translated.text\n",
    "    except langdetect.lang_detect_exception.LangDetectException:\n",
    "        return text  # If detection fails, keep the original text\n",
    "    return text  # If already English, return as is\n",
    "\n",
    "# Apply function to translate non-English tweets\n",
    "trump_df[\"Tweet\"] = trump_df[\"Tweet\"].apply(translate_to_english)\n",
    "harris_df[\"Tweet\"] = harris_df[\"Tweet\"].apply(translate_to_english)"
   ]
  },
  {
   "cell_type": "markdown",
   "id": "de330375-219f-43a5-b412-f77a58912e17",
   "metadata": {},
   "source": [
    "**Removing URLs and Links** BERT and NLP models do not process URLs meaningfully, so removing them improves text clarity."
   ]
  },
  {
   "cell_type": "code",
   "execution_count": 23,
   "id": "0cd1b818-67e5-4a86-a21c-4055de81e6da",
   "metadata": {},
   "outputs": [],
   "source": [
    "import re\n",
    "\n",
    "def remove_urls(text):\n",
    "    \"\"\"Removes all URLs from tweets.\"\"\"\n",
    "    return re.sub(r\"http\\S+|www\\S+|https\\S+\", \"\", text, flags=re.MULTILINE)  # Removes any URL starting with http, https, www\n"
   ]
  },
  {
   "cell_type": "markdown",
   "id": "548c9586-89f8-4fc0-b88f-463ee9dab204",
   "metadata": {},
   "source": [
    "**Removing Special Characters, Numbers & Extra Spaces** Tweets often contain symbols, numbers, and unnecessary punctuation that do not contribute to sentiment."
   ]
  },
  {
   "cell_type": "code",
   "execution_count": 25,
   "id": "214a46fa-b99c-408e-b4c8-3e1c4eceb0aa",
   "metadata": {},
   "outputs": [],
   "source": [
    "import re\n",
    "\n",
    "def clean_text(text):\n",
    "    \"\"\"Removes special characters, numbers, and extra spaces.\"\"\"\n",
    "    text = re.sub(r\"[^a-zA-Z\\s]\", \"\", text)  # Keep only letters and spaces\n",
    "    text = re.sub(r\"\\s+\", \" \", text).strip()  # Remove extra spaces\n",
    "    return text\n",
    "\n",
    "# Apply function to both datasets\n",
    "trump_df[\"Tweet\"] = trump_df[\"Tweet\"].apply(clean_text)\n",
    "harris_df[\"Tweet\"] = harris_df[\"Tweet\"].apply(clean_text)"
   ]
  },
  {
   "cell_type": "markdown",
   "id": "ced6e356-367c-4f6f-915a-0e24785224ce",
   "metadata": {},
   "source": [
    "**Convert Tweets to Lowercase**"
   ]
  },
  {
   "cell_type": "code",
   "execution_count": 27,
   "id": "9ab4a8db-34cb-45fd-8a28-398e192482b0",
   "metadata": {},
   "outputs": [],
   "source": [
    "def to_lowercase(text):\n",
    "    \"\"\"Converts text to lowercase.\"\"\"\n",
    "    return text.lower()\n",
    "\n",
    "# Apply function to both datasets\n",
    "trump_df[\"Tweet\"] = trump_df[\"Tweet\"].apply(to_lowercase)\n",
    "harris_df[\"Tweet\"] = harris_df[\"Tweet\"].apply(to_lowercase)"
   ]
  },
  {
   "cell_type": "markdown",
   "id": "f8b3f4d9-cbcb-4322-8236-bd90b8933413",
   "metadata": {},
   "source": [
    "**Removing Short or Meaningless Tweets**"
   ]
  },
  {
   "cell_type": "code",
   "execution_count": 29,
   "id": "98850777-bee7-4711-b41d-0fb43ddae95b",
   "metadata": {},
   "outputs": [],
   "source": [
    "def remove_short_tweets(text):\n",
    "    \"\"\"Removes tweets that have fewer than 3 words.\"\"\"\n",
    "    return len(text.split()) >= 3  # Keep tweets with 3 or more words\n",
    "\n",
    "# Apply function to both datasets\n",
    "trump_df = trump_df[trump_df[\"Tweet\"].apply(remove_short_tweets)]\n",
    "harris_df = harris_df[harris_df[\"Tweet\"].apply(remove_short_tweets)]"
   ]
  },
  {
   "cell_type": "markdown",
   "id": "f9712da6-402b-4a16-a145-37237282d461",
   "metadata": {},
   "source": [
    "**Final Text Cleaning - Stripping Extra Spaces**\n",
    "- Some tweets may still have leading or trailing spaces due to previous cleaning steps.\n",
    "- Ensuring tweets are properly formatted improves tokenization and model performance."
   ]
  },
  {
   "cell_type": "code",
   "execution_count": 31,
   "id": "ef80477b-6582-4f46-9f27-d1d6b8bd10fa",
   "metadata": {},
   "outputs": [
    {
     "data": {
      "text/html": [
       "<div>\n",
       "<style scoped>\n",
       "    .dataframe tbody tr th:only-of-type {\n",
       "        vertical-align: middle;\n",
       "    }\n",
       "\n",
       "    .dataframe tbody tr th {\n",
       "        vertical-align: top;\n",
       "    }\n",
       "\n",
       "    .dataframe thead th {\n",
       "        text-align: right;\n",
       "    }\n",
       "</style>\n",
       "<table border=\"1\" class=\"dataframe\">\n",
       "  <thead>\n",
       "    <tr style=\"text-align: right;\">\n",
       "      <th></th>\n",
       "      <th>User ID</th>\n",
       "      <th>Tweet ID</th>\n",
       "      <th>Tweet</th>\n",
       "      <th>Created at</th>\n",
       "      <th>Retweets</th>\n",
       "      <th>Replies</th>\n",
       "      <th>Likes</th>\n",
       "      <th>Quotes</th>\n",
       "      <th>Source</th>\n",
       "    </tr>\n",
       "  </thead>\n",
       "  <tbody>\n",
       "    <tr>\n",
       "      <th>0</th>\n",
       "      <td>831683895234007040</td>\n",
       "      <td>1833354711484739688</td>\n",
       "      <td>trump going lie debate lot biggest trump lies ...</td>\n",
       "      <td>2024-09-10 03:59:59+00:00</td>\n",
       "      <td>14181</td>\n",
       "      <td>0</td>\n",
       "      <td>0</td>\n",
       "      <td>0</td>\n",
       "      <td>NaN</td>\n",
       "    </tr>\n",
       "    <tr>\n",
       "      <th>1</th>\n",
       "      <td>899321381258539009</td>\n",
       "      <td>1833354711446999516</td>\n",
       "      <td>taylor swift talking palestine controversial h...</td>\n",
       "      <td>2024-09-10 03:59:59+00:00</td>\n",
       "      <td>17431</td>\n",
       "      <td>0</td>\n",
       "      <td>0</td>\n",
       "      <td>0</td>\n",
       "      <td>NaN</td>\n",
       "    </tr>\n",
       "    <tr>\n",
       "      <th>2</th>\n",
       "      <td>720857191</td>\n",
       "      <td>1833354711438618816</td>\n",
       "      <td>trump bragged bob woodward protected saudi ara...</td>\n",
       "      <td>2024-09-10 03:59:59+00:00</td>\n",
       "      <td>23285</td>\n",
       "      <td>0</td>\n",
       "      <td>0</td>\n",
       "      <td>0</td>\n",
       "      <td>NaN</td>\n",
       "    </tr>\n",
       "    <tr>\n",
       "      <th>3</th>\n",
       "      <td>1319754515524931584</td>\n",
       "      <td>1833354711426302274</td>\n",
       "      <td>wow love animals like do must vote rightful pr...</td>\n",
       "      <td>2024-09-10 03:59:59+00:00</td>\n",
       "      <td>363</td>\n",
       "      <td>0</td>\n",
       "      <td>0</td>\n",
       "      <td>0</td>\n",
       "      <td>NaN</td>\n",
       "    </tr>\n",
       "    <tr>\n",
       "      <th>4</th>\n",
       "      <td>1248617214468476928</td>\n",
       "      <td>1833354711346323915</td>\n",
       "      <td>fact she is made whole thing antitrump release...</td>\n",
       "      <td>2024-09-10 03:59:59+00:00</td>\n",
       "      <td>9369</td>\n",
       "      <td>0</td>\n",
       "      <td>0</td>\n",
       "      <td>0</td>\n",
       "      <td>NaN</td>\n",
       "    </tr>\n",
       "  </tbody>\n",
       "</table>\n",
       "</div>"
      ],
      "text/plain": [
       "               User ID             Tweet ID  \\\n",
       "0   831683895234007040  1833354711484739688   \n",
       "1   899321381258539009  1833354711446999516   \n",
       "2            720857191  1833354711438618816   \n",
       "3  1319754515524931584  1833354711426302274   \n",
       "4  1248617214468476928  1833354711346323915   \n",
       "\n",
       "                                               Tweet  \\\n",
       "0  trump going lie debate lot biggest trump lies ...   \n",
       "1  taylor swift talking palestine controversial h...   \n",
       "2  trump bragged bob woodward protected saudi ara...   \n",
       "3  wow love animals like do must vote rightful pr...   \n",
       "4  fact she is made whole thing antitrump release...   \n",
       "\n",
       "                  Created at  Retweets  Replies  Likes  Quotes  Source  \n",
       "0  2024-09-10 03:59:59+00:00     14181        0      0       0     NaN  \n",
       "1  2024-09-10 03:59:59+00:00     17431        0      0       0     NaN  \n",
       "2  2024-09-10 03:59:59+00:00     23285        0      0       0     NaN  \n",
       "3  2024-09-10 03:59:59+00:00       363        0      0       0     NaN  \n",
       "4  2024-09-10 03:59:59+00:00      9369        0      0       0     NaN  "
      ]
     },
     "metadata": {},
     "output_type": "display_data"
    },
    {
     "data": {
      "text/html": [
       "<div>\n",
       "<style scoped>\n",
       "    .dataframe tbody tr th:only-of-type {\n",
       "        vertical-align: middle;\n",
       "    }\n",
       "\n",
       "    .dataframe tbody tr th {\n",
       "        vertical-align: top;\n",
       "    }\n",
       "\n",
       "    .dataframe thead th {\n",
       "        text-align: right;\n",
       "    }\n",
       "</style>\n",
       "<table border=\"1\" class=\"dataframe\">\n",
       "  <thead>\n",
       "    <tr style=\"text-align: right;\">\n",
       "      <th></th>\n",
       "      <th>User ID</th>\n",
       "      <th>Tweet ID</th>\n",
       "      <th>Tweet</th>\n",
       "      <th>Created at</th>\n",
       "      <th>Retweets</th>\n",
       "      <th>Replies</th>\n",
       "      <th>Likes</th>\n",
       "      <th>Quotes</th>\n",
       "      <th>Source</th>\n",
       "    </tr>\n",
       "  </thead>\n",
       "  <tbody>\n",
       "    <tr>\n",
       "      <th>0</th>\n",
       "      <td>1673887475880845314</td>\n",
       "      <td>1833354711572856932</td>\n",
       "      <td>kamala openly brags dumping haitian migrants a...</td>\n",
       "      <td>2024-09-10 03:59:59+00:00</td>\n",
       "      <td>18287</td>\n",
       "      <td>0</td>\n",
       "      <td>0</td>\n",
       "      <td>0</td>\n",
       "      <td>NaN</td>\n",
       "    </tr>\n",
       "    <tr>\n",
       "      <th>1</th>\n",
       "      <td>23897765</td>\n",
       "      <td>1833354711560339900</td>\n",
       "      <td>wbna superstar brittney griner wore kamala har...</td>\n",
       "      <td>2024-09-10 03:59:59+00:00</td>\n",
       "      <td>1980</td>\n",
       "      <td>0</td>\n",
       "      <td>0</td>\n",
       "      <td>0</td>\n",
       "      <td>NaN</td>\n",
       "    </tr>\n",
       "    <tr>\n",
       "      <th>2</th>\n",
       "      <td>1055753008129196033</td>\n",
       "      <td>1833354711489032339</td>\n",
       "      <td>google growth strategist exposes googles searc...</td>\n",
       "      <td>2024-09-10 03:59:59+00:00</td>\n",
       "      <td>22300</td>\n",
       "      <td>0</td>\n",
       "      <td>0</td>\n",
       "      <td>0</td>\n",
       "      <td>NaN</td>\n",
       "    </tr>\n",
       "    <tr>\n",
       "      <th>3</th>\n",
       "      <td>1319754515524931584</td>\n",
       "      <td>1833354711426302274</td>\n",
       "      <td>wow love animals like do must vote rightful pr...</td>\n",
       "      <td>2024-09-10 03:59:59+00:00</td>\n",
       "      <td>363</td>\n",
       "      <td>0</td>\n",
       "      <td>0</td>\n",
       "      <td>0</td>\n",
       "      <td>NaN</td>\n",
       "    </tr>\n",
       "    <tr>\n",
       "      <th>4</th>\n",
       "      <td>1183192509578502144</td>\n",
       "      <td>1833354711262470326</td>\n",
       "      <td>policecarlight predictit flipped trump harris ...</td>\n",
       "      <td>2024-09-10 03:59:59+00:00</td>\n",
       "      <td>219</td>\n",
       "      <td>0</td>\n",
       "      <td>0</td>\n",
       "      <td>0</td>\n",
       "      <td>NaN</td>\n",
       "    </tr>\n",
       "  </tbody>\n",
       "</table>\n",
       "</div>"
      ],
      "text/plain": [
       "               User ID             Tweet ID  \\\n",
       "0  1673887475880845314  1833354711572856932   \n",
       "1             23897765  1833354711560339900   \n",
       "2  1055753008129196033  1833354711489032339   \n",
       "3  1319754515524931584  1833354711426302274   \n",
       "4  1183192509578502144  1833354711262470326   \n",
       "\n",
       "                                               Tweet  \\\n",
       "0  kamala openly brags dumping haitian migrants a...   \n",
       "1  wbna superstar brittney griner wore kamala har...   \n",
       "2  google growth strategist exposes googles searc...   \n",
       "3  wow love animals like do must vote rightful pr...   \n",
       "4  policecarlight predictit flipped trump harris ...   \n",
       "\n",
       "                  Created at  Retweets  Replies  Likes  Quotes  Source  \n",
       "0  2024-09-10 03:59:59+00:00     18287        0      0       0     NaN  \n",
       "1  2024-09-10 03:59:59+00:00      1980        0      0       0     NaN  \n",
       "2  2024-09-10 03:59:59+00:00     22300        0      0       0     NaN  \n",
       "3  2024-09-10 03:59:59+00:00       363        0      0       0     NaN  \n",
       "4  2024-09-10 03:59:59+00:00       219        0      0       0     NaN  "
      ]
     },
     "metadata": {},
     "output_type": "display_data"
    }
   ],
   "source": [
    "import re\n",
    "\n",
    "def strip_extra_spaces(text):\n",
    "    \"\"\"Removes leading, trailing, and extra spaces between words.\"\"\"\n",
    "    text = re.sub(r\"\\s+\", \" \", text).strip()  # Replace multiple spaces with a single space\n",
    "    return text\n",
    "\n",
    "# Apply function to both datasets\n",
    "trump_df[\"Tweet\"] = trump_df[\"Tweet\"].apply(strip_extra_spaces)\n",
    "harris_df[\"Tweet\"] = harris_df[\"Tweet\"].apply(strip_extra_spaces)\n",
    "\n",
    "# Display updated DataFrames\n",
    "display(trump_df.head())\n",
    "display(harris_df.head())\n"
   ]
  },
  {
   "cell_type": "markdown",
   "id": "efd88b4b-1308-4827-a8bb-7e426635d2b9",
   "metadata": {},
   "source": [
    "## BERT Analysis (RoBERTa)\n",
    "\n",
    "**Step 1: Load Pre-Trained RoBERTa Sentiment Model**"
   ]
  },
  {
   "cell_type": "code",
   "execution_count": 78,
   "id": "2ff8c3e6-ea7a-4924-86e8-3faa4c20ef07",
   "metadata": {},
   "outputs": [
    {
     "data": {
      "application/vnd.jupyter.widget-view+json": {
       "model_id": "3cf3b967049546aa8416932c7bdc2afb",
       "version_major": 2,
       "version_minor": 0
      },
      "text/plain": [
       "config.json:   0%|          | 0.00/747 [00:00<?, ?B/s]"
      ]
     },
     "metadata": {},
     "output_type": "display_data"
    },
    {
     "name": "stderr",
     "output_type": "stream",
     "text": [
      "C:\\Users\\Kaanchi Gupta\\anaconda3\\Lib\\site-packages\\huggingface_hub\\file_download.py:140: UserWarning: `huggingface_hub` cache-system uses symlinks by default to efficiently store duplicated files but your machine does not support them in C:\\Users\\Kaanchi Gupta\\.cache\\huggingface\\hub\\models--cardiffnlp--twitter-roberta-base-sentiment. Caching files will still work but in a degraded version that might require more space on your disk. This warning can be disabled by setting the `HF_HUB_DISABLE_SYMLINKS_WARNING` environment variable. For more details, see https://huggingface.co/docs/huggingface_hub/how-to-cache#limitations.\n",
      "To support symlinks on Windows, you either need to activate Developer Mode or to run Python as an administrator. In order to activate developer mode, see this article: https://docs.microsoft.com/en-us/windows/apps/get-started/enable-your-device-for-development\n",
      "  warnings.warn(message)\n"
     ]
    },
    {
     "data": {
      "application/vnd.jupyter.widget-view+json": {
       "model_id": "0a9f03ba6caf4ba8a3bfccfd4e4886d2",
       "version_major": 2,
       "version_minor": 0
      },
      "text/plain": [
       "vocab.json:   0%|          | 0.00/899k [00:00<?, ?B/s]"
      ]
     },
     "metadata": {},
     "output_type": "display_data"
    },
    {
     "data": {
      "application/vnd.jupyter.widget-view+json": {
       "model_id": "c6e87d5c6c2d450083e5329cce54123a",
       "version_major": 2,
       "version_minor": 0
      },
      "text/plain": [
       "merges.txt:   0%|          | 0.00/456k [00:00<?, ?B/s]"
      ]
     },
     "metadata": {},
     "output_type": "display_data"
    },
    {
     "data": {
      "application/vnd.jupyter.widget-view+json": {
       "model_id": "48c3c4cd93d240f6b4ce21db6f0f2ebc",
       "version_major": 2,
       "version_minor": 0
      },
      "text/plain": [
       "special_tokens_map.json:   0%|          | 0.00/150 [00:00<?, ?B/s]"
      ]
     },
     "metadata": {},
     "output_type": "display_data"
    },
    {
     "data": {
      "application/vnd.jupyter.widget-view+json": {
       "model_id": "0d6a595df59c4fbcb474a4e2d608cdc1",
       "version_major": 2,
       "version_minor": 0
      },
      "text/plain": [
       "pytorch_model.bin:   0%|          | 0.00/499M [00:00<?, ?B/s]"
      ]
     },
     "metadata": {},
     "output_type": "display_data"
    }
   ],
   "source": [
    "from transformers import AutoTokenizer, AutoModelForSequenceClassification\n",
    "\n",
    "MODEL_NAME = \"cardiffnlp/twitter-roberta-base-sentiment\"\n",
    "tokenizer = AutoTokenizer.from_pretrained(MODEL_NAME)\n",
    "model = AutoModelForSequenceClassification.from_pretrained(MODEL_NAME)\n",
    "\n",
    "sentiment_labels = {0: \"Negative\", 1: \"Neutral\", 2: \"Positive\"}\n",
    "\n"
   ]
  },
  {
   "cell_type": "markdown",
   "id": "e50aded2-8083-4881-bd6e-153a91377fb9",
   "metadata": {},
   "source": [
    "**Step 2: Tokenizing Tweets for BERT Sentiment Analysis** "
   ]
  },
  {
   "cell_type": "code",
   "execution_count": 81,
   "id": "9543be0b-68f5-4368-92fe-2ec251e7a05a",
   "metadata": {},
   "outputs": [],
   "source": [
    "def tokenize_tweets(tweets):\n",
    "    \"\"\"Tokenizes tweets for RoBERTa input format.\"\"\"\n",
    "    encoding = tokenizer(\n",
    "        tweets.tolist(),  \n",
    "        padding=True,    \n",
    "        truncation=True,   \n",
    "        max_length=64,  \n",
    "        return_tensors=\"pt\"\n",
    "    )\n",
    "    \n",
    "    return encoding\n"
   ]
  },
  {
   "cell_type": "markdown",
   "id": "465811f4-7023-464e-8c0e-b5984908f46c",
   "metadata": {},
   "source": [
    "**Running Tweets Through RoBERTa for Sentiment Analysis**"
   ]
  },
  {
   "cell_type": "code",
   "execution_count": 87,
   "id": "7e22fa69-fb43-4210-9a6b-bf60956128ea",
   "metadata": {},
   "outputs": [],
   "source": [
    "import torch.nn.functional as F\n",
    "import numpy as np\n",
    "\n",
    "batch_size = 512  # Process in batches for efficiency\n",
    "\n",
    "def predict_sentiment_in_batches(df):\n",
    "    \"\"\"Runs tweets through RoBERTa in batches for sentiment analysis.\"\"\"\n",
    "    sentiments = []\n",
    "    \n",
    "    for i in range(0, len(df), batch_size):\n",
    "        batch_tweets = df[\"Tweet\"][i:i+batch_size]  # Get batch of tweets\n",
    "        encodings = tokenize_tweets(batch_tweets)  # Tokenize batch\n",
    "\n",
    "        # Move tokenized inputs to GPU (if available)\n",
    "        input_ids = encodings[\"input_ids\"].to(device)\n",
    "        attention_mask = encodings[\"attention_mask\"].to(device)\n",
    "\n",
    "        with torch.no_grad():  \n",
    "            outputs = model(input_ids, attention_mask=attention_mask)\n",
    "\n",
    "        logits = outputs.logits  \n",
    "        probs = F.softmax(logits, dim=-1)  \n",
    "        predictions = torch.argmax(probs, dim=-1).cpu().numpy()  \n",
    "\n",
    "        sentiments.extend(predictions)  \n",
    "\n",
    "        torch.cuda.empty_cache()  # Free up GPU memory\n",
    "\n",
    "    return np.array(sentiments)\n",
    "\n",
    "# Apply batch prediction on both datasets\n",
    "trump_df[\"Sentiment\"] = predict_sentiment_in_batches(trump_df)\n",
    "harris_df[\"Sentiment\"] = predict_sentiment_in_batches(harris_df)\n",
    "\n",
    " "
   ]
  },
  {
   "cell_type": "markdown",
   "id": "6762d768-259b-48da-8b5f-14498d35739a",
   "metadata": {},
   "source": [
    "**Mapping Sentiment Scores to Labels**"
   ]
  },
  {
   "cell_type": "code",
   "execution_count": 89,
   "id": "cc3d3afe-9bc2-4cc1-b786-37fd4a4476ac",
   "metadata": {},
   "outputs": [
    {
     "data": {
      "text/html": [
       "<div>\n",
       "<style scoped>\n",
       "    .dataframe tbody tr th:only-of-type {\n",
       "        vertical-align: middle;\n",
       "    }\n",
       "\n",
       "    .dataframe tbody tr th {\n",
       "        vertical-align: top;\n",
       "    }\n",
       "\n",
       "    .dataframe thead th {\n",
       "        text-align: right;\n",
       "    }\n",
       "</style>\n",
       "<table border=\"1\" class=\"dataframe\">\n",
       "  <thead>\n",
       "    <tr style=\"text-align: right;\">\n",
       "      <th></th>\n",
       "      <th>User ID</th>\n",
       "      <th>Tweet ID</th>\n",
       "      <th>Tweet</th>\n",
       "      <th>Created at</th>\n",
       "      <th>Retweets</th>\n",
       "      <th>Replies</th>\n",
       "      <th>Likes</th>\n",
       "      <th>Quotes</th>\n",
       "      <th>Source</th>\n",
       "      <th>Sentiment</th>\n",
       "      <th>Sentiment_Label</th>\n",
       "    </tr>\n",
       "  </thead>\n",
       "  <tbody>\n",
       "    <tr>\n",
       "      <th>0</th>\n",
       "      <td>831683895234007040</td>\n",
       "      <td>1833354711484739688</td>\n",
       "      <td>trump going lie debate lot biggest trump lies ...</td>\n",
       "      <td>2024-09-10 03:59:59+00:00</td>\n",
       "      <td>14181</td>\n",
       "      <td>0</td>\n",
       "      <td>0</td>\n",
       "      <td>0</td>\n",
       "      <td>NaN</td>\n",
       "      <td>0</td>\n",
       "      <td>Negative</td>\n",
       "    </tr>\n",
       "    <tr>\n",
       "      <th>1</th>\n",
       "      <td>899321381258539009</td>\n",
       "      <td>1833354711446999516</td>\n",
       "      <td>taylor swift talking palestine controversial h...</td>\n",
       "      <td>2024-09-10 03:59:59+00:00</td>\n",
       "      <td>17431</td>\n",
       "      <td>0</td>\n",
       "      <td>0</td>\n",
       "      <td>0</td>\n",
       "      <td>NaN</td>\n",
       "      <td>0</td>\n",
       "      <td>Negative</td>\n",
       "    </tr>\n",
       "    <tr>\n",
       "      <th>2</th>\n",
       "      <td>720857191</td>\n",
       "      <td>1833354711438618816</td>\n",
       "      <td>trump bragged bob woodward protected saudi ara...</td>\n",
       "      <td>2024-09-10 03:59:59+00:00</td>\n",
       "      <td>23285</td>\n",
       "      <td>0</td>\n",
       "      <td>0</td>\n",
       "      <td>0</td>\n",
       "      <td>NaN</td>\n",
       "      <td>1</td>\n",
       "      <td>Neutral</td>\n",
       "    </tr>\n",
       "    <tr>\n",
       "      <th>3</th>\n",
       "      <td>1319754515524931584</td>\n",
       "      <td>1833354711426302274</td>\n",
       "      <td>wow love animals like do must vote rightful pr...</td>\n",
       "      <td>2024-09-10 03:59:59+00:00</td>\n",
       "      <td>363</td>\n",
       "      <td>0</td>\n",
       "      <td>0</td>\n",
       "      <td>0</td>\n",
       "      <td>NaN</td>\n",
       "      <td>2</td>\n",
       "      <td>Positive</td>\n",
       "    </tr>\n",
       "    <tr>\n",
       "      <th>4</th>\n",
       "      <td>1248617214468476928</td>\n",
       "      <td>1833354711346323915</td>\n",
       "      <td>fact she is made whole thing antitrump release...</td>\n",
       "      <td>2024-09-10 03:59:59+00:00</td>\n",
       "      <td>9369</td>\n",
       "      <td>0</td>\n",
       "      <td>0</td>\n",
       "      <td>0</td>\n",
       "      <td>NaN</td>\n",
       "      <td>1</td>\n",
       "      <td>Neutral</td>\n",
       "    </tr>\n",
       "  </tbody>\n",
       "</table>\n",
       "</div>"
      ],
      "text/plain": [
       "               User ID             Tweet ID  \\\n",
       "0   831683895234007040  1833354711484739688   \n",
       "1   899321381258539009  1833354711446999516   \n",
       "2            720857191  1833354711438618816   \n",
       "3  1319754515524931584  1833354711426302274   \n",
       "4  1248617214468476928  1833354711346323915   \n",
       "\n",
       "                                               Tweet  \\\n",
       "0  trump going lie debate lot biggest trump lies ...   \n",
       "1  taylor swift talking palestine controversial h...   \n",
       "2  trump bragged bob woodward protected saudi ara...   \n",
       "3  wow love animals like do must vote rightful pr...   \n",
       "4  fact she is made whole thing antitrump release...   \n",
       "\n",
       "                  Created at  Retweets  Replies  Likes  Quotes  Source  \\\n",
       "0  2024-09-10 03:59:59+00:00     14181        0      0       0     NaN   \n",
       "1  2024-09-10 03:59:59+00:00     17431        0      0       0     NaN   \n",
       "2  2024-09-10 03:59:59+00:00     23285        0      0       0     NaN   \n",
       "3  2024-09-10 03:59:59+00:00       363        0      0       0     NaN   \n",
       "4  2024-09-10 03:59:59+00:00      9369        0      0       0     NaN   \n",
       "\n",
       "   Sentiment Sentiment_Label  \n",
       "0          0        Negative  \n",
       "1          0        Negative  \n",
       "2          1         Neutral  \n",
       "3          2        Positive  \n",
       "4          1         Neutral  "
      ]
     },
     "metadata": {},
     "output_type": "display_data"
    },
    {
     "data": {
      "text/html": [
       "<div>\n",
       "<style scoped>\n",
       "    .dataframe tbody tr th:only-of-type {\n",
       "        vertical-align: middle;\n",
       "    }\n",
       "\n",
       "    .dataframe tbody tr th {\n",
       "        vertical-align: top;\n",
       "    }\n",
       "\n",
       "    .dataframe thead th {\n",
       "        text-align: right;\n",
       "    }\n",
       "</style>\n",
       "<table border=\"1\" class=\"dataframe\">\n",
       "  <thead>\n",
       "    <tr style=\"text-align: right;\">\n",
       "      <th></th>\n",
       "      <th>User ID</th>\n",
       "      <th>Tweet ID</th>\n",
       "      <th>Tweet</th>\n",
       "      <th>Created at</th>\n",
       "      <th>Retweets</th>\n",
       "      <th>Replies</th>\n",
       "      <th>Likes</th>\n",
       "      <th>Quotes</th>\n",
       "      <th>Source</th>\n",
       "      <th>Sentiment</th>\n",
       "      <th>Sentiment_Label</th>\n",
       "    </tr>\n",
       "  </thead>\n",
       "  <tbody>\n",
       "    <tr>\n",
       "      <th>0</th>\n",
       "      <td>1673887475880845314</td>\n",
       "      <td>1833354711572856932</td>\n",
       "      <td>kamala openly brags dumping haitian migrants a...</td>\n",
       "      <td>2024-09-10 03:59:59+00:00</td>\n",
       "      <td>18287</td>\n",
       "      <td>0</td>\n",
       "      <td>0</td>\n",
       "      <td>0</td>\n",
       "      <td>NaN</td>\n",
       "      <td>0</td>\n",
       "      <td>Negative</td>\n",
       "    </tr>\n",
       "    <tr>\n",
       "      <th>1</th>\n",
       "      <td>23897765</td>\n",
       "      <td>1833354711560339900</td>\n",
       "      <td>wbna superstar brittney griner wore kamala har...</td>\n",
       "      <td>2024-09-10 03:59:59+00:00</td>\n",
       "      <td>1980</td>\n",
       "      <td>0</td>\n",
       "      <td>0</td>\n",
       "      <td>0</td>\n",
       "      <td>NaN</td>\n",
       "      <td>1</td>\n",
       "      <td>Neutral</td>\n",
       "    </tr>\n",
       "    <tr>\n",
       "      <th>2</th>\n",
       "      <td>1055753008129196033</td>\n",
       "      <td>1833354711489032339</td>\n",
       "      <td>google growth strategist exposes googles searc...</td>\n",
       "      <td>2024-09-10 03:59:59+00:00</td>\n",
       "      <td>22300</td>\n",
       "      <td>0</td>\n",
       "      <td>0</td>\n",
       "      <td>0</td>\n",
       "      <td>NaN</td>\n",
       "      <td>1</td>\n",
       "      <td>Neutral</td>\n",
       "    </tr>\n",
       "    <tr>\n",
       "      <th>3</th>\n",
       "      <td>1319754515524931584</td>\n",
       "      <td>1833354711426302274</td>\n",
       "      <td>wow love animals like do must vote rightful pr...</td>\n",
       "      <td>2024-09-10 03:59:59+00:00</td>\n",
       "      <td>363</td>\n",
       "      <td>0</td>\n",
       "      <td>0</td>\n",
       "      <td>0</td>\n",
       "      <td>NaN</td>\n",
       "      <td>2</td>\n",
       "      <td>Positive</td>\n",
       "    </tr>\n",
       "    <tr>\n",
       "      <th>4</th>\n",
       "      <td>1183192509578502144</td>\n",
       "      <td>1833354711262470326</td>\n",
       "      <td>policecarlight predictit flipped trump harris ...</td>\n",
       "      <td>2024-09-10 03:59:59+00:00</td>\n",
       "      <td>219</td>\n",
       "      <td>0</td>\n",
       "      <td>0</td>\n",
       "      <td>0</td>\n",
       "      <td>NaN</td>\n",
       "      <td>1</td>\n",
       "      <td>Neutral</td>\n",
       "    </tr>\n",
       "  </tbody>\n",
       "</table>\n",
       "</div>"
      ],
      "text/plain": [
       "               User ID             Tweet ID  \\\n",
       "0  1673887475880845314  1833354711572856932   \n",
       "1             23897765  1833354711560339900   \n",
       "2  1055753008129196033  1833354711489032339   \n",
       "3  1319754515524931584  1833354711426302274   \n",
       "4  1183192509578502144  1833354711262470326   \n",
       "\n",
       "                                               Tweet  \\\n",
       "0  kamala openly brags dumping haitian migrants a...   \n",
       "1  wbna superstar brittney griner wore kamala har...   \n",
       "2  google growth strategist exposes googles searc...   \n",
       "3  wow love animals like do must vote rightful pr...   \n",
       "4  policecarlight predictit flipped trump harris ...   \n",
       "\n",
       "                  Created at  Retweets  Replies  Likes  Quotes  Source  \\\n",
       "0  2024-09-10 03:59:59+00:00     18287        0      0       0     NaN   \n",
       "1  2024-09-10 03:59:59+00:00      1980        0      0       0     NaN   \n",
       "2  2024-09-10 03:59:59+00:00     22300        0      0       0     NaN   \n",
       "3  2024-09-10 03:59:59+00:00       363        0      0       0     NaN   \n",
       "4  2024-09-10 03:59:59+00:00       219        0      0       0     NaN   \n",
       "\n",
       "   Sentiment Sentiment_Label  \n",
       "0          0        Negative  \n",
       "1          1         Neutral  \n",
       "2          1         Neutral  \n",
       "3          2        Positive  \n",
       "4          1         Neutral  "
      ]
     },
     "metadata": {},
     "output_type": "display_data"
    }
   ],
   "source": [
    "sentiment_labels = {0: \"Negative\", 1: \"Neutral\", 2: \"Positive\"}\n",
    "\n",
    "# Apply correct sentiment labels\n",
    "trump_df[\"Sentiment_Label\"] = trump_df[\"Sentiment\"].map(sentiment_labels)\n",
    "harris_df[\"Sentiment_Label\"] = harris_df[\"Sentiment\"].map(sentiment_labels)\n",
    "\n",
    "# Display updated DataFrames\n",
    "display(trump_df.head())\n",
    "display(harris_df.head())\n",
    "\n"
   ]
  },
  {
   "cell_type": "markdown",
   "id": "8c03cfd3-b810-4813-8f50-4c70a5532585",
   "metadata": {},
   "source": [
    "**Visualizing Sentiment Trends**"
   ]
  },
  {
   "cell_type": "code",
   "execution_count": 104,
   "id": "3cf9fdff-8589-4ad5-8ac2-a8c12d3bd52e",
   "metadata": {},
   "outputs": [
    {
     "name": "stdout",
     "output_type": "stream",
     "text": [
      "                 Trump Tweets  Harris Tweets\n",
      "Sentiment_Label                             \n",
      "Negative                  433            350\n",
      "Neutral                   539            583\n",
      "Positive                   65             55\n"
     ]
    },
    {
     "data": {
      "image/png": "[encoded data removed]",
      "text/plain": [
       "<Figure size 800x500 with 1 Axes>"
      ]
     },
     "metadata": {},
     "output_type": "display_data"
    }
   ],
   "source": [
    "# Calculate sentiment distribution for both datasets\n",
    "trump_sentiment_counts = trump_df[\"Sentiment_Label\"].value_counts().sort_index()\n",
    "harris_sentiment_counts = harris_df[\"Sentiment_Label\"].value_counts().sort_index()\n",
    "\n",
    "# Create a DataFrame for comparison\n",
    "sentiment_comparison_df = pd.DataFrame({\n",
    "    \"Trump Tweets\": trump_sentiment_counts,\n",
    "    \"Harris Tweets\": harris_sentiment_counts\n",
    "}).fillna(0)  # Fill NaN values with 0 if any category is missing\n",
    "\n",
    "# Display the sentiment distribution table\n",
    "print(sentiment_comparison_df)\n",
    "\n",
    "# Plot the sentiment distribution comparison\n",
    "sentiment_comparison_df.plot(kind=\"bar\", figsize=(8,5), color=[\"blue\", \"orange\"])\n",
    "plt.title(\"Sentiment Distribution: Trump vs. Harris Tweets\")\n",
    "plt.xlabel(\"Sentiment Category\")\n",
    "plt.ylabel(\"Number of Tweets\")\n",
    "plt.xticks(rotation=0)\n",
    "plt.legend(title=\"Dataset\")\n",
    "plt.show()\n",
    "\n"
   ]
  },
  {
   "cell_type": "markdown",
   "id": "9026da95-ab14-4e00-aba0-f1ee4d7f7692",
   "metadata": {},
   "source": [
    "**Individual Compostion of Tweets**"
   ]
  },
  {
   "cell_type": "code",
   "execution_count": 144,
   "id": "83f56710-f224-4bd8-9f79-fcd8b72a788f",
   "metadata": {},
   "outputs": [
    {
     "data": {
      "image/png": "[encoded data removed]",
      "text/plain": [
       "<Figure size 600x600 with 1 Axes>"
      ]
     },
     "metadata": {},
     "output_type": "display_data"
    },
    {
     "data": {
      "image/png": "[encoded data removed]",
      "text/plain": [
       "<Figure size 600x600 with 1 Axes>"
      ]
     },
     "metadata": {},
     "output_type": "display_data"
    }
   ],
   "source": [
    "def plot_sentiment_pie(df, title):\n",
    "    \"\"\"Plots a pie chart for sentiment proportions.\"\"\"\n",
    "    sentiment_counts = df[\"Sentiment_Label\"].value_counts()\n",
    "\n",
    "    plt.figure(figsize=(6,6))\n",
    "    plt.pie(sentiment_counts, labels=sentiment_counts.index, autopct=\"%1.1f%%\", \n",
    "            colors=[\"red\", \"gray\", \"green\"], startangle=140, wedgeprops={\"edgecolor\": \"black\"})\n",
    "\n",
    "    plt.title(title, fontsize=14, fontweight=\"bold\")\n",
    "    plt.show()\n",
    "\n",
    "# Plot sentiment proportions as pie charts\n",
    "plot_sentiment_pie(trump_df, \"Trump Tweet Sentiment Proportion (Pie Chart)\")\n",
    "plot_sentiment_pie(harris_df, \"Harris Tweet Sentiment Proportion (Pie Chart)\")\n",
    "\n"
   ]
  },
  {
   "cell_type": "markdown",
   "id": "35fa26cb-762f-4ccb-a168-26d5fd0ce534",
   "metadata": {},
   "source": [
    "## Key Insights From the Visualizations ##\n",
    "\n",
    "**Combined Sentiment Distribution (Bar Chart)**\n",
    "- Trump-related tweets had a higher proportion of Negative sentiment than Harris-related tweets.\n",
    "- Harris-related tweets had a slightly higher proportion of Neutral sentiment.\n",
    "- Both datasets had very low Positive sentiment, reinforcing that discussions about both figures were either Neutral or Negative.\n",
    "\n",
    "**Individual Pie-Charts**\n",
    "- Neutral sentiment dominates both Trump (52.0%) and Harris (59.0%) tweets, showing most discussions are objective or non-opinionated.\n",
    "- Trump tweets have more negativity (41.8%) than Harris (35.4%), suggesting he faces more criticism.\n",
    "- Positive sentiment is very low for both (Trump: 6.3%, Harris: 5.6%), indicating limited supportive engagement.\n",
    "- Harris-related tweets lean more neutral, while Trump has a stronger divide between neutral and negative sentiments.\n"
   ]
  },
  {
   "cell_type": "markdown",
   "id": "1d79267b-281e-4a71-bae5-bad1768bbeb2",
   "metadata": {},
   "source": [
    "## Final Conclusion ##\n",
    "\n",
    "- Public sentiment on Twitter towards both Trump and Harris skews towards Neutral and Negative.\n",
    "- Using RoBERTa was essential to capture Neutral sentiment, making the analysis more accurate.\n",
    "- The low percentage of Positive sentiment suggests that political discussions on Twitter tend to be more critical or indifferent rather than supportive.\n",
    "- Further analysis could explore which topics drive negativity in tweets about Trump and Harris."
   ]
  }
 ],
 "metadata": {
  "kernelspec": {
   "display_name": "Python 3 (ipykernel)",
   "language": "python",
   "name": "python3"
  },
  "language_info": {
   "codemirror_mode": {
    "name": "ipython",
    "version": 3
   },
   "file_extension": ".py",
   "mimetype": "text/x-python",
   "name": "python",
   "nbconvert_exporter": "python",
   "pygments_lexer": "ipython3",
   "version": "3.12.7"
  }
 },
 "nbformat": 4,
 "nbformat_minor": 5
}
